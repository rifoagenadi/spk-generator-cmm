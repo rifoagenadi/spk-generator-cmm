{
 "cells": [
  {
   "cell_type": "code",
   "execution_count": 1,
   "metadata": {},
   "outputs": [],
   "source": [
    "import pickle as pkl\n",
    "parts = pkl.load(open('data/dummy_parts.pickle', 'rb'))\n",
    "# parts = []"
   ]
  },
  {
   "cell_type": "code",
   "execution_count": 3,
   "metadata": {},
   "outputs": [
    {
     "data": {
      "text/plain": [
       "{'same 0.37x223.26x772.96': 324,\n",
       " 'ready 1.57x218.38x708.76': 1531,\n",
       " 'analysis 0.91x245.42x738.75': 1678,\n",
       " 'plant 1.65x153.96x410.87': 2579,\n",
       " 'throw 1.14x231.35x969.9': 1395,\n",
       " 'always 0.06x84.56x493.21': 2862,\n",
       " 'officer 0.83x83.42x969.46': 812,\n",
       " 'successful 0.83x228.82x764.61': 1879,\n",
       " 'hospital 1.65x235.51x686.3': 248,\n",
       " 'evidence 1.5x181.73x940.86': 267,\n",
       " 'new 0.65x209.68x1088.3': 2384,\n",
       " 'take 1.16x169.07x946.42': 2262,\n",
       " 'series 0.8x149.11x820.11': 2668,\n",
       " 'black 0.4x110.1x905.92': 2650,\n",
       " 'her 1.38x223.46x321.96': 2482,\n",
       " 'price 0.45x99.72x379.11': 2365,\n",
       " 'present 0.13x182.3x362.25': 1749,\n",
       " 'region 1.01x219.31x1155.83': 1169,\n",
       " 'again 0.5x223.78x1167.32': 217,\n",
       " 'artist 1.41x243.57x834.38': 2942,\n",
       " 'inside 0.13x121.7x988.17': 1076,\n",
       " 'sea 1.38x178.02x444.92': 2925,\n",
       " 'safe 0.31x89.79x514.71': 1110,\n",
       " 'all 0.86x205.05x218.67': 1809,\n",
       " 'entire 0.89x177.98x519.9': 2173,\n",
       " 'reduce 0.97x165.52x394.61': 2820,\n",
       " 'tree 1.6x203.23x182.4': 1669,\n",
       " 'new 1.09x75.52x648.3': 1409,\n",
       " 'claim 0.85x89.51x1090.17': 1155,\n",
       " 'last 0.99x203.53x1164.76': 578,\n",
       " 'lawyer 0.85x89.59x1081.42': 1316,\n",
       " 'deal 0.83x100.44x117.29': 2486,\n",
       " 'common 0.03x98.94x168.45': 785,\n",
       " 'party 0.38x134.32x984.03': 2382,\n",
       " 'decade 1.26x193.45x563.78': 2900,\n",
       " 'race 1.26x188.01x985.51': 477,\n",
       " 'or 1.68x135.73x425.44': 778,\n",
       " 'wonder 1.27x118.21x454.17': 1691,\n",
       " 'reveal 0.17x133.58x181.92': 512,\n",
       " 'realize 1.06x154.15x120.6': 2120,\n",
       " 'coach 0.34x200.47x1033.93': 1773,\n",
       " 'thank 0.93x191.22x566.44': 738,\n",
       " 'course 0.0x145.12x591.24': 1242,\n",
       " 'town 1.32x143.11x449.28': 1403,\n",
       " 'design 0.5x119.41x723.87': 281,\n",
       " 'say 0.64x109.97x751.62': 2305,\n",
       " 'than 1.36x123.9x734.57': 1847,\n",
       " 'song 0.4x89.81x534.09': 2260,\n",
       " 'word 1.06x123.02x1066.64': 2666,\n",
       " 'enter 1.2x244.13x688.43': 2156,\n",
       " 'require 1.36x79.5x831.57': 1182,\n",
       " 'involve 1.38x140.85x1124.65': 2616,\n",
       " 'thank 0.46x114.33x449.89': 2982,\n",
       " 'listen 0.07x171.46x139.33': 2848,\n",
       " 'stop 1.17x100.72x166.89': 2075,\n",
       " 'later 1.08x222.89x1162.79': 2376,\n",
       " 'artist 1.04x151.27x233.41': 2634,\n",
       " 'summer 1.29x217.29x627.39': 426,\n",
       " 'foreign 1.28x240.63x373.21': 2758,\n",
       " 'phone 1.33x104.94x356.25': 510,\n",
       " 'partner 1.2x155.24x187.59': 2020,\n",
       " 'within 1.26x131.56x555.98': 1372,\n",
       " 'away 0.72x76.52x1101.87': 932,\n",
       " 'never 0.77x215.05x1166.78': 674,\n",
       " 'next 0.7x87.81x912.91': 1709,\n",
       " 'career 1.43x140.64x1137.59': 246,\n",
       " 'move 0.86x155.05x259.08': 1945,\n",
       " 'magazine 1.55x114.17x494.5': 1312,\n",
       " 'may 0.43x226.98x413.15': 210,\n",
       " 'energy 0.78x122.34x826.45': 2074,\n",
       " 'total 1.28x78.14x359.81': 2457,\n",
       " 'Mr 0.33x244.41x825.28': 251,\n",
       " 'agent 1.07x152.94x1158.66': 659,\n",
       " 'soon 1.69x145.3x931.26': 728,\n",
       " 'also 1.5x136.02x666.17': 1900,\n",
       " 'full 0.72x127.68x477.38': 2511,\n",
       " 'beyond 0.27x184.53x298.16': 2887,\n",
       " 'small 1.36x205.22x1110.76': 2166,\n",
       " 'fight 1.38x135.27x665.05': 498,\n",
       " 'glass 0.99x217.08x1198.84': 2570,\n",
       " 'message 0.95x106.61x1014.83': 225,\n",
       " 'contain 1.33x166.07x260.33': 2866,\n",
       " 'debate 1.49x206.2x721.25': 2303,\n",
       " 'customer 1.68x122.22x873.85': 689,\n",
       " 'yeah 1.55x169.4x563.44': 1909,\n",
       " 'three 0.52x96.48x145.24': 2162,\n",
       " 'while 0.46x155.6x134.56': 2224,\n",
       " 'compare 0.72x151.89x261.24': 238,\n",
       " 'cup 0.58x192.57x424.63': 2726,\n",
       " 'soldier 1.11x130.6x810.67': 779,\n",
       " 'responsibility 1.19x168.03x766.47': 2515,\n",
       " 'hold 1.25x113.05x665.24': 1682,\n",
       " 'hand 1.61x97.11x141.09': 1161,\n",
       " 'treatment 0.63x144.76x130.76': 1206,\n",
       " 'whom 0.66x174.32x1141.78': 918,\n",
       " 'bad 0.31x117.41x840.37': 1728,\n",
       " 'laugh 0.69x104.86x244.32': 869,\n",
       " 'standard 0.21x120.0x864.05': 346,\n",
       " 'call 0.38x144.96x817.88': 2769,\n",
       " 'old 0.29x142.88x445.58': 1178}"
      ]
     },
     "execution_count": 3,
     "metadata": {},
     "output_type": "execute_result"
    }
   ],
   "source": [
    "materials = list(set([part.material for part in parts]))\n",
    "import random\n",
    "{\n",
    "    m: random.randint(200, 3000) for m in materials\n",
    "}"
   ]
  },
  {
   "cell_type": "code",
   "execution_count": null,
   "metadata": {},
   "outputs": [],
   "source": [
    "from utils import get_prioritized_tasks, assign_task_to_machines"
   ]
  },
  {
   "cell_type": "code",
   "execution_count": null,
   "metadata": {},
   "outputs": [],
   "source": [
    "sorted_tasks = get_prioritized_tasks(parts, top_n=200)\n",
    "len(sorted_tasks)"
   ]
  },
  {
   "cell_type": "code",
   "execution_count": null,
   "metadata": {},
   "outputs": [],
   "source": [
    "sorted_tasks[-20:]"
   ]
  },
  {
   "cell_type": "code",
   "execution_count": null,
   "metadata": {},
   "outputs": [],
   "source": [
    "for i, part in enumerate(parts):\n",
    "    print(i, part.name)"
   ]
  },
  {
   "cell_type": "code",
   "execution_count": null,
   "metadata": {},
   "outputs": [],
   "source": [
    "nums = [2, 0, 1, 1, 0]\n",
    "mem = [0]*3\n",
    "for n in nums:\n",
    "    mem[n]+=1\n",
    "\n",
    "nums = [0]*mem[0] + [1]*mem[1] + [2]*mem[2]"
   ]
  },
  {
   "cell_type": "code",
   "execution_count": null,
   "metadata": {},
   "outputs": [],
   "source": [
    "from reportlab.lib.pagesizes import letter\n",
    "from reportlab.pdfgen import canvas\n",
    "\n",
    "file_path = 'data/canvas.pdf'\n",
    "c = canvas.Canvas(file_path, pagesize=letter)\n",
    "\n",
    "# Draw text\n",
    "c.drawString(100, 750, \"Hello, this is a PDF created with Python!\")\n",
    "\n",
    "# Save the PDF\n",
    "c.save()"
   ]
  },
  {
   "cell_type": "code",
   "execution_count": null,
   "metadata": {},
   "outputs": [],
   "source": [
    "from reportlab.lib import colors\n",
    "from reportlab.lib.pagesizes import letter\n",
    "from reportlab.platypus import SimpleDocTemplate, Table, TableStyle\n",
    "import pandas as pd\n",
    "\n",
    "def create_pdf_from_dataframe(df, filename='output.pdf'):\n",
    "    data = [df.columns.tolist()] + df.values.tolist()\n",
    "    \n",
    "    # Create a PDF document\n",
    "    doc = SimpleDocTemplate(filename, pagesize=letter)\n",
    "    \n",
    "    # Create a table from the DataFrame data\n",
    "    table = Table(data)\n",
    "    \n",
    "    # Add style to the table\n",
    "    style = TableStyle([('BACKGROUND', (0, 0), (-1, 0), colors.grey),\n",
    "                        ('TEXTCOLOR', (0, 0), (-1, 0), colors.whitesmoke),\n",
    "                        ('ALIGN', (0, 0), (-1, -1), 'CENTER'),\n",
    "                        ('FONTNAME', (0, 0), (-1, 0), 'Helvetica-Bold'),\n",
    "                        ('BOTTOMPADDING', (0, 0), (-1, 0), 12),\n",
    "                        ('BACKGROUND', (0, 1), (-1, -1), colors.beige),\n",
    "                        ('GRID', (0, 0), (-1, -1), 1, colors.black)])\n",
    "    \n",
    "    table.setStyle(style)\n",
    "    \n",
    "    # Add the table to the PDF document\n",
    "    doc.build([table])\n",
    "\n",
    "# Example DataFrame\n",
    "df = pd.DataFrame({\n",
    "    'Name': ['Alice', 'Bob', 'Charlie'],\n",
    "    'Age': [25, 30, 35],\n",
    "    'City': ['New York', 'Los Angeles', 'Chicago']\n",
    "})\n",
    "\n",
    "# Create PDF from DataFrame\n",
    "# create_pdf_from_dataframe(df, 'output.pdf')\n",
    "data = [df.columns.tolist()] + df.values.tolist()"
   ]
  },
  {
   "cell_type": "code",
   "execution_count": null,
   "metadata": {},
   "outputs": [],
   "source": []
  }
 ],
 "metadata": {
  "kernelspec": {
   "display_name": "dss-HX-d_oCn-py3.12",
   "language": "python",
   "name": "python3"
  },
  "language_info": {
   "codemirror_mode": {
    "name": "ipython",
    "version": 3
   },
   "file_extension": ".py",
   "mimetype": "text/x-python",
   "name": "python",
   "nbconvert_exporter": "python",
   "pygments_lexer": "ipython3",
   "version": "3.12.3"
  }
 },
 "nbformat": 4,
 "nbformat_minor": 2
}
